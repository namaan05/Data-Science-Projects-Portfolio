{
 "cells": [
  {
   "cell_type": "markdown",
   "id": "9d39e209",
   "metadata": {},
   "source": [
    "# Microsoft Malware Detection "
   ]
  },
  {
   "cell_type": "markdown",
   "id": "39bed27e",
   "metadata": {},
   "source": [
    "# Exploratory Data Analysis"
   ]
  },
  {
   "cell_type": "code",
   "execution_count": 63,
   "id": "a6b6b15d",
   "metadata": {},
   "outputs": [],
   "source": [
    "import pandas as pd \n",
    "import numpy as np \n",
    "import os \n",
    "import seaborn as sns\n",
    "import matplotlib.pyplot as plt\n",
    "import shutil\n",
    "import warnings \n",
    "warnings.filterwarnings('ignore')"
   ]
  },
  {
   "cell_type": "code",
   "execution_count": 64,
   "id": "0dfdd5d2",
   "metadata": {},
   "outputs": [],
   "source": [
    "source='train'\n",
    "destination='byteFiles'\n",
    "\n",
    "#check if bytefile name directory exists or not if not then create new directory with bytefile name \n",
    "if not os.path.isdir(destination):\n",
    "    os.mkdir(destination)\n",
    "\n",
    "#if directory with name train present then separate .asm files and .byte files into separate directory with names byteFiles and asmFiles \n",
    "if os.path.isdir(source):\n",
    "    os.rename(source,'asmFiles')\n",
    "    source='asmFiles'\n",
    "    data_files = os.listdir(source)\n",
    "    for file in data_files:\n",
    "        if (file.endswith(\"bytes\")):\n",
    "            source_path = os.path.join(source, file)\n",
    "            destination_path = os.path.join(destination, file)\n",
    "\n",
    "            # Move the file from source to destination\n",
    "            shutil.move(source_path, destination_path)"
   ]
  },
  {
   "cell_type": "markdown",
   "id": "f7ec871d",
   "metadata": {},
   "source": [
    "# Distribution of Malware Classes  "
   ]
  },
  {
   "cell_type": "code",
   "execution_count": 65,
   "id": "768c1e31",
   "metadata": {},
   "outputs": [
    {
     "data": {
      "image/png": "[encoded data removed]",
      "text/plain": [
       "<Figure size 640x480 with 1 Axes>"
      ]
     },
     "metadata": {},
     "output_type": "display_data"
    }
   ],
   "source": [
    "classY=pd.read_csv(\"trainLabels.csv\")\n",
    "total = len(classY)\n",
    "ax=sns.countplot(x=\"Class\", data=classY)\n",
    "for p in ax.patches:\n",
    "        ax.annotate('{:.1f}%'.format(100*p.get_height()/total), (p.get_x()+0.1, p.get_height()+5))\n",
    "\n",
    "#put 11 ticks (therefore 10 steps), from 0 to the total number of rows in the dataframe\n",
    "ax.yaxis.set_ticks(np.linspace(0, total, 7))\n",
    "\n",
    "#adjust the ticklabel to the desired format, without changing the position of the ticks. \n",
    "ax.set_yticklabels(map('{:.1f}%'.format, 100*ax.yaxis.get_majorticklocs()/total))\n",
    "plt.show()"
   ]
  },
  {
   "cell_type": "markdown",
   "id": "6abb250e",
   "metadata": {},
   "source": [
    "# Feature Extraction"
   ]
  },
  {
   "cell_type": "markdown",
   "id": "d231d41d",
   "metadata": {},
   "source": [
    "File Size as a Feature "
   ]
  },
  {
   "cell_type": "code",
   "execution_count": 66,
   "id": "106e7749",
   "metadata": {},
   "outputs": [],
   "source": [
    "source='byteFiles'\n",
    "files=os.listdir(source)\n",
    "filenames=classY['Id'].tolist()\n",
    "class_Y=classY['Class'].tolist()\n",
    "class_byte_file=[]\n",
    "class_byte_size=[]\n",
    "byte_file_name=[]\n",
    "\n",
    "for file in files: \n",
    "    source_path = os.path.join(source, file)\n",
    "    info=os.stat(source_path)\n",
    "    file=file.split('.')[0]\n",
    "    if any (file == filename for filename in filenames):\n",
    "        i=filename.index(file)\n",
    "        class_byte_file.append(class_Y[i])\n",
    "        class_byte_size.append(info.st_size/(1024*1024))\n",
    "        byte_file_name.append(file)\n",
    "data_size_byte=pd.DataFrame({'ID':byte_file_name,'size':class_byte_size,'Class':class_byte_file})             "
   ]
  },
  {
   "cell_type": "code",
   "execution_count": 67,
   "id": "db609015",
   "metadata": {},
   "outputs": [
    {
     "data": {
      "text/html": [
       "<div>\n",
       "<style scoped>\n",
       "    .dataframe tbody tr th:only-of-type {\n",
       "        vertical-align: middle;\n",
       "    }\n",
       "\n",
       "    .dataframe tbody tr th {\n",
       "        vertical-align: top;\n",
       "    }\n",
       "\n",
       "    .dataframe thead th {\n",
       "        text-align: right;\n",
       "    }\n",
       "</style>\n",
       "<table border=\"1\" class=\"dataframe\">\n",
       "  <thead>\n",
       "    <tr style=\"text-align: right;\">\n",
       "      <th></th>\n",
       "      <th>ID</th>\n",
       "      <th>size</th>\n",
       "      <th>Class</th>\n",
       "    </tr>\n",
       "  </thead>\n",
       "  <tbody>\n",
       "    <tr>\n",
       "      <th>0</th>\n",
       "      <td>fuso63yW7wAXO20gJIBS</td>\n",
       "      <td>1.260254</td>\n",
       "      <td>1</td>\n",
       "    </tr>\n",
       "    <tr>\n",
       "      <th>1</th>\n",
       "      <td>8jrxyaQiGJb5qcsOmMAv</td>\n",
       "      <td>8.312012</td>\n",
       "      <td>2</td>\n",
       "    </tr>\n",
       "    <tr>\n",
       "      <th>2</th>\n",
       "      <td>3UV6IekO5Y2pKRB7D1g9</td>\n",
       "      <td>8.099609</td>\n",
       "      <td>3</td>\n",
       "    </tr>\n",
       "    <tr>\n",
       "      <th>3</th>\n",
       "      <td>Dvs1tiIfjYZJcV0dT2rS</td>\n",
       "      <td>6.811035</td>\n",
       "      <td>2</td>\n",
       "    </tr>\n",
       "    <tr>\n",
       "      <th>4</th>\n",
       "      <td>8KeOIvQaxRdsU7mu6CrL</td>\n",
       "      <td>6.234161</td>\n",
       "      <td>2</td>\n",
       "    </tr>\n",
       "  </tbody>\n",
       "</table>\n",
       "</div>"
      ],
      "text/plain": [
       "                     ID      size  Class\n",
       "0  fuso63yW7wAXO20gJIBS  1.260254      1\n",
       "1  8jrxyaQiGJb5qcsOmMAv  8.312012      2\n",
       "2  3UV6IekO5Y2pKRB7D1g9  8.099609      3\n",
       "3  Dvs1tiIfjYZJcV0dT2rS  6.811035      2\n",
       "4  8KeOIvQaxRdsU7mu6CrL  6.234161      2"
      ]
     },
     "execution_count": 67,
     "metadata": {},
     "output_type": "execute_result"
    }
   ],
   "source": [
    "data_size_byte.head()"
   ]
  },
  {
   "cell_type": "code",
   "execution_count": 68,
   "id": "86d58271",
   "metadata": {},
   "outputs": [
    {
     "data": {
      "image/png": "[encoded data removed]",
      "text/plain": [
       "<Figure size 640x480 with 1 Axes>"
      ]
     },
     "metadata": {},
     "output_type": "display_data"
    }
   ],
   "source": [
    "ax=sns.boxplot(x='Class',data=data_size_byte,y='size')\n",
    "plt.title('Boxplot of .bytes file sizes')\n",
    "plt.show()"
   ]
  },
  {
   "cell_type": "markdown",
   "id": "572cb5a0",
   "metadata": {},
   "source": [
    "Creating unigram features from byte file "
   ]
  },
  {
   "cell_type": "code",
   "execution_count": 69,
   "id": "910ef4f7",
   "metadata": {},
   "outputs": [],
   "source": [
    "source='byteFiles'\n",
    "files=os.listdir(source)\n",
    "source_path = os.path.join(source, file)\n",
    "\n",
    "\n",
    "for file in files:\n",
    "    file=file.split('.')[0]\n",
    "    text_file=open('byteFiles/'+file+\".txt\",'w+')\n",
    "    file=file+'.bytes'\n",
    "    with open('byteFiles/'+file,'r') as fp:\n",
    "        lines=\" \"\n",
    "        for line in fp:\n",
    "            a=line.rstrip().split(\" \")[1:]\n",
    "            b=' '.join(a)\n",
    "            b=b+'\\n'\n",
    "            text_file.write(b)\n",
    "        fp.close()\n",
    "        os.remove('byteFiles/'+file)\n",
    "    text_file.close()             \n",
    "\n",
    "files = os.listdir('byteFiles')\n",
    "filenames2=[]\n",
    "feature_matrix = np.zeros((len(files),257),dtype=int)\n",
    "k=0"
   ]
  },
  {
   "cell_type": "code",
   "execution_count": 72,
   "id": "67faae62",
   "metadata": {},
   "outputs": [
    {
     "ename": "KeyboardInterrupt",
     "evalue": "",
     "output_type": "error",
     "traceback": [
      "\u001b[0;31m---------------------------------------------------------------------------\u001b[0m",
      "\u001b[0;31mKeyboardInterrupt\u001b[0m                         Traceback (most recent call last)",
      "Cell \u001b[0;32mIn[72], line 16\u001b[0m\n\u001b[1;32m     14\u001b[0m                     feature_matrix[k][\u001b[38;5;241m256\u001b[39m]\u001b[38;5;241m+\u001b[39m\u001b[38;5;241m=\u001b[39m\u001b[38;5;241m1\u001b[39m\n\u001b[1;32m     15\u001b[0m                 \u001b[38;5;28;01melse\u001b[39;00m:\n\u001b[0;32m---> 16\u001b[0m                     feature_matrix[k][\u001b[38;5;28mint\u001b[39m(hex_code,\u001b[38;5;241m16\u001b[39m)]\u001b[38;5;241m+\u001b[39m\u001b[38;5;241m=\u001b[39m\u001b[38;5;241m1\u001b[39m\n\u001b[1;32m     17\u001b[0m     byte_flie\u001b[38;5;241m.\u001b[39mclose()\n\u001b[1;32m     18\u001b[0m \u001b[38;5;28;01mfor\u001b[39;00m i \u001b[38;5;129;01min\u001b[39;00m feature_matrix[k]:\n",
      "\u001b[0;31mKeyboardInterrupt\u001b[0m: "
     ]
    }
   ],
   "source": [
    "#program to convert into bag of words of bytefiles\n",
    "#this is custom-built bag of words this is unigram bag of words\n",
    "byte_feature_file=open('result.csv','w+')\n",
    "byte_feature_file.write(\"ID,1,2,3,4,5,6,7,8,9,0a,0b,0c,0d,0e,0f,10,11,12,13,14,15,16,17,18,19,1a,1b,1c,1d,1e,1f,20,21,22,23,24,25,26,27,28,29,2a,2b,2c,2d,2e,2f,30,31,32,33,34,35,36,37,38,39,3a,3b,3c,3d,3e,3f,40,41,42,43,44,45,46,47,48,49,4a,4b,4c,4d,4e,4f,50,51,52,53,54,55,56,57,58,59,5a,5b,5c,5d,5e,5f,60,61,62,63,64,65,66,67,68,69,6a,6b,6c,6d,6e,6f,70,71,72,73,74,75,76,77,78,79,7a,7b,7c,7d,7e,7f,80,81,82,83,84,85,86,87,88,89,8a,8b,8c,8d,8e,8f,90,91,92,93,94,95,96,97,98,99,9a,9b,9c,9d,9e,9f,a0,a1,a2,a3,a4,a5,a6,a7,a8,a9,aa,ab,ac,ad,ae,af,b0,b1,b2,b3,b4,b5,b6,b7,b8,b9,ba,bb,bc,bd,be,bf,c0,c1,c2,c3,c4,c5,c6,c7,c8,c9,ca,cb,cc,cd,ce,cf,d0,d1,d2,d3,d4,d5,d6,d7,d8,d9,da,db,dc,dd,de,df,e0,e1,e2,e3,e4,e5,e6,e7,e8,e9,ea,eb,ec,ed,ee,ef,f0,f1,f2,f3,f4,f5,f6,f7,f8,f9,fa,fb,fc,fd,fe,ff,??\")\n",
    "for file in files:\n",
    "    filenames2.append(file)\n",
    "    byte_feature_file.write(file+\",\")\n",
    "    if(file.endswith(\"txt\")):\n",
    "        with open('byteFiles/'+file,\"r\") as byte_flie:\n",
    "            for lines in byte_flie:\n",
    "                line=lines.rstrip().split(\" \")\n",
    "                for hex_code in line:\n",
    "                    if hex_code=='??':\n",
    "                        feature_matrix[k][256]+=1\n",
    "                    else:\n",
    "                        feature_matrix[k][int(hex_code,16)]+=1\n",
    "        byte_flie.close()\n",
    "    for i, row in enumerate(feature_matrix[k]):\n",
    "        if i!=len(feature_matrix[k])-1:\n",
    "            byte_feature_file.write(str(row)+\",\")\n",
    "        else:\n",
    "            byte_feature_file.write(str(row))\n",
    "    byte_feature_file.write(\"\\n\")\n",
    "    \n",
    "    k += 1\n",
    "\n",
    "byte_feature_file.close()"
   ]
  },
  {
   "cell_type": "code",
   "execution_count": 76,
   "id": "45529380",
   "metadata": {},
   "outputs": [],
   "source": [
    "byte_features=pd.read_csv('result.csv')\n",
    "byte_features['ID']=byte_features['ID'].str.split(\".\").str[0]"
   ]
  },
  {
   "cell_type": "code",
   "execution_count": 77,
   "id": "a04284f0",
   "metadata": {},
   "outputs": [
    {
     "data": {
      "text/html": [
       "<div>\n",
       "<style scoped>\n",
       "    .dataframe tbody tr th:only-of-type {\n",
       "        vertical-align: middle;\n",
       "    }\n",
       "\n",
       "    .dataframe tbody tr th {\n",
       "        vertical-align: top;\n",
       "    }\n",
       "\n",
       "    .dataframe thead th {\n",
       "        text-align: right;\n",
       "    }\n",
       "</style>\n",
       "<table border=\"1\" class=\"dataframe\">\n",
       "  <thead>\n",
       "    <tr style=\"text-align: right;\">\n",
       "      <th></th>\n",
       "      <th>ID</th>\n",
       "      <th>0</th>\n",
       "      <th>1</th>\n",
       "      <th>2</th>\n",
       "      <th>3</th>\n",
       "      <th>4</th>\n",
       "      <th>5</th>\n",
       "      <th>6</th>\n",
       "      <th>7</th>\n",
       "      <th>8</th>\n",
       "      <th>...</th>\n",
       "      <th>f7</th>\n",
       "      <th>f8</th>\n",
       "      <th>f9</th>\n",
       "      <th>fa</th>\n",
       "      <th>fb</th>\n",
       "      <th>fc</th>\n",
       "      <th>fd</th>\n",
       "      <th>fe</th>\n",
       "      <th>ff</th>\n",
       "      <th>??</th>\n",
       "    </tr>\n",
       "  </thead>\n",
       "  <tbody>\n",
       "    <tr>\n",
       "      <th>0</th>\n",
       "      <td>01azqd4InC7m9JpocGv5</td>\n",
       "      <td>601905</td>\n",
       "      <td>3905</td>\n",
       "      <td>2816</td>\n",
       "      <td>3832</td>\n",
       "      <td>3345</td>\n",
       "      <td>3242</td>\n",
       "      <td>3650</td>\n",
       "      <td>3201</td>\n",
       "      <td>2965</td>\n",
       "      <td>...</td>\n",
       "      <td>2804</td>\n",
       "      <td>3687</td>\n",
       "      <td>3101</td>\n",
       "      <td>3211</td>\n",
       "      <td>3097</td>\n",
       "      <td>2758</td>\n",
       "      <td>3099</td>\n",
       "      <td>2759</td>\n",
       "      <td>5753</td>\n",
       "      <td>1824</td>\n",
       "    </tr>\n",
       "    <tr>\n",
       "      <th>1</th>\n",
       "      <td>01IsoiSMh5gxyDYTl4CB</td>\n",
       "      <td>39755</td>\n",
       "      <td>8337</td>\n",
       "      <td>7249</td>\n",
       "      <td>7186</td>\n",
       "      <td>8663</td>\n",
       "      <td>6844</td>\n",
       "      <td>8420</td>\n",
       "      <td>7589</td>\n",
       "      <td>9291</td>\n",
       "      <td>...</td>\n",
       "      <td>451</td>\n",
       "      <td>6536</td>\n",
       "      <td>439</td>\n",
       "      <td>281</td>\n",
       "      <td>302</td>\n",
       "      <td>7639</td>\n",
       "      <td>518</td>\n",
       "      <td>17001</td>\n",
       "      <td>54902</td>\n",
       "      <td>8588</td>\n",
       "    </tr>\n",
       "    <tr>\n",
       "      <th>2</th>\n",
       "      <td>01jsnpXSAlgw6aPeDxrU</td>\n",
       "      <td>93506</td>\n",
       "      <td>9542</td>\n",
       "      <td>2568</td>\n",
       "      <td>2438</td>\n",
       "      <td>8925</td>\n",
       "      <td>9330</td>\n",
       "      <td>9007</td>\n",
       "      <td>2342</td>\n",
       "      <td>9107</td>\n",
       "      <td>...</td>\n",
       "      <td>2325</td>\n",
       "      <td>2358</td>\n",
       "      <td>2242</td>\n",
       "      <td>2885</td>\n",
       "      <td>2863</td>\n",
       "      <td>2471</td>\n",
       "      <td>2786</td>\n",
       "      <td>2680</td>\n",
       "      <td>49144</td>\n",
       "      <td>468</td>\n",
       "    </tr>\n",
       "    <tr>\n",
       "      <th>3</th>\n",
       "      <td>01kcPWA9K2BOxQeS5Rju</td>\n",
       "      <td>21091</td>\n",
       "      <td>1213</td>\n",
       "      <td>726</td>\n",
       "      <td>817</td>\n",
       "      <td>1257</td>\n",
       "      <td>625</td>\n",
       "      <td>550</td>\n",
       "      <td>523</td>\n",
       "      <td>1078</td>\n",
       "      <td>...</td>\n",
       "      <td>478</td>\n",
       "      <td>873</td>\n",
       "      <td>485</td>\n",
       "      <td>462</td>\n",
       "      <td>516</td>\n",
       "      <td>1133</td>\n",
       "      <td>471</td>\n",
       "      <td>761</td>\n",
       "      <td>7998</td>\n",
       "      <td>13940</td>\n",
       "    </tr>\n",
       "    <tr>\n",
       "      <th>4</th>\n",
       "      <td>01SuzwMJEIXsK7A8dQbl</td>\n",
       "      <td>19764</td>\n",
       "      <td>710</td>\n",
       "      <td>302</td>\n",
       "      <td>433</td>\n",
       "      <td>559</td>\n",
       "      <td>410</td>\n",
       "      <td>262</td>\n",
       "      <td>249</td>\n",
       "      <td>422</td>\n",
       "      <td>...</td>\n",
       "      <td>847</td>\n",
       "      <td>947</td>\n",
       "      <td>350</td>\n",
       "      <td>209</td>\n",
       "      <td>239</td>\n",
       "      <td>653</td>\n",
       "      <td>221</td>\n",
       "      <td>242</td>\n",
       "      <td>2199</td>\n",
       "      <td>9008</td>\n",
       "    </tr>\n",
       "  </tbody>\n",
       "</table>\n",
       "<p>5 rows × 258 columns</p>\n",
       "</div>"
      ],
      "text/plain": [
       "                     ID       0     1     2     3     4     5     6     7  \\\n",
       "0  01azqd4InC7m9JpocGv5  601905  3905  2816  3832  3345  3242  3650  3201   \n",
       "1  01IsoiSMh5gxyDYTl4CB   39755  8337  7249  7186  8663  6844  8420  7589   \n",
       "2  01jsnpXSAlgw6aPeDxrU   93506  9542  2568  2438  8925  9330  9007  2342   \n",
       "3  01kcPWA9K2BOxQeS5Rju   21091  1213   726   817  1257   625   550   523   \n",
       "4  01SuzwMJEIXsK7A8dQbl   19764   710   302   433   559   410   262   249   \n",
       "\n",
       "      8  ...    f7    f8    f9    fa    fb    fc    fd     fe     ff     ??  \n",
       "0  2965  ...  2804  3687  3101  3211  3097  2758  3099   2759   5753   1824  \n",
       "1  9291  ...   451  6536   439   281   302  7639   518  17001  54902   8588  \n",
       "2  9107  ...  2325  2358  2242  2885  2863  2471  2786   2680  49144    468  \n",
       "3  1078  ...   478   873   485   462   516  1133   471    761   7998  13940  \n",
       "4   422  ...   847   947   350   209   239   653   221    242   2199   9008  \n",
       "\n",
       "[5 rows x 258 columns]"
      ]
     },
     "execution_count": 77,
     "metadata": {},
     "output_type": "execute_result"
    }
   ],
   "source": [
    "byte_features.head()"
   ]
  },
  {
   "cell_type": "code",
   "execution_count": 83,
   "id": "a5cc94ce",
   "metadata": {},
   "outputs": [
    {
     "name": "stdout",
     "output_type": "stream",
     "text": [
      "                     ID       0     1     2     3     4     5     6     7  \\\n",
      "0  01azqd4InC7m9JpocGv5  601905  3905  2816  3832  3345  3242  3650  3201   \n",
      "1  01IsoiSMh5gxyDYTl4CB   39755  8337  7249  7186  8663  6844  8420  7589   \n",
      "2  01jsnpXSAlgw6aPeDxrU   93506  9542  2568  2438  8925  9330  9007  2342   \n",
      "3  01kcPWA9K2BOxQeS5Rju   21091  1213   726   817  1257   625   550   523   \n",
      "4  01SuzwMJEIXsK7A8dQbl   19764   710   302   433   559   410   262   249   \n",
      "\n",
      "      8  ...    f9    fa    fb    fc    fd     fe     ff     ??      size  \\\n",
      "0  2965  ...  3101  3211  3097  2758  3099   2759   5753   1824  5.012695   \n",
      "1  9291  ...   439   281   302  7639   518  17001  54902   8588  6.556152   \n",
      "2  9107  ...  2242  2885  2863  2471  2786   2680  49144    468  4.602051   \n",
      "3  1078  ...   485   462   516  1133   471    761   7998  13940  0.679688   \n",
      "4   422  ...   350   209   239   653   221    242   2199   9008  0.438965   \n",
      "\n",
      "   Class  \n",
      "0      9  \n",
      "1      2  \n",
      "2      9  \n",
      "3      1  \n",
      "4      8  \n",
      "\n",
      "[5 rows x 260 columns]\n"
     ]
    },
    {
     "data": {
      "text/plain": [
       "ID       0\n",
       "0        0\n",
       "1        0\n",
       "2        0\n",
       "3        0\n",
       "        ..\n",
       "fe       0\n",
       "ff       0\n",
       "??       0\n",
       "size     0\n",
       "Class    0\n",
       "Length: 260, dtype: int64"
      ]
     },
     "execution_count": 83,
     "metadata": {},
     "output_type": "execute_result"
    }
   ],
   "source": [
    "bye_features_with_size=pd.merge(byte_features,data_size_byte,on='ID',how='left')\n",
    "print(bye_features_with_size.head())\n",
    "bye_features_with_size.isnull().sum()"
   ]
  },
  {
   "cell_type": "code",
   "execution_count": 80,
   "id": "4a0b441e",
   "metadata": {},
   "outputs": [
    {
     "data": {
      "text/plain": [
       "ID       0\n",
       "0        0\n",
       "1        0\n",
       "2        0\n",
       "3        0\n",
       "        ..\n",
       "fe       0\n",
       "ff       0\n",
       "??       0\n",
       "size     0\n",
       "Class    0\n",
       "Length: 260, dtype: int64"
      ]
     },
     "execution_count": 80,
     "metadata": {},
     "output_type": "execute_result"
    }
   ],
   "source": []
  },
  {
   "cell_type": "code",
   "execution_count": null,
   "id": "3b09f510",
   "metadata": {},
   "outputs": [],
   "source": []
  },
  {
   "cell_type": "code",
   "execution_count": null,
   "id": "e08302b4",
   "metadata": {},
   "outputs": [],
   "source": []
  },
  {
   "cell_type": "code",
   "execution_count": null,
   "id": "d48fdb7a",
   "metadata": {},
   "outputs": [],
   "source": []
  },
  {
   "cell_type": "code",
   "execution_count": null,
   "id": "1dda0b03",
   "metadata": {},
   "outputs": [],
   "source": []
  },
  {
   "cell_type": "code",
   "execution_count": null,
   "id": "35de42f5",
   "metadata": {},
   "outputs": [],
   "source": []
  }
 ],
 "metadata": {
  "kernelspec": {
   "display_name": "Python 3 (ipykernel)",
   "language": "python",
   "name": "python3"
  },
  "language_info": {
   "codemirror_mode": {
    "name": "ipython",
    "version": 3
   },
   "file_extension": ".py",
   "mimetype": "text/x-python",
   "name": "python",
   "nbconvert_exporter": "python",
   "pygments_lexer": "ipython3",
   "version": "3.11.4"
  }
 },
 "nbformat": 4,
 "nbformat_minor": 5
}
